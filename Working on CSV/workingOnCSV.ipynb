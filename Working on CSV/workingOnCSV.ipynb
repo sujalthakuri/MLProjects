{
 "cells": [
  {
   "cell_type": "code",
   "execution_count": 1,
   "id": "d3c1882a",
   "metadata": {},
   "outputs": [],
   "source": [
    "import pandas as pd"
   ]
  },
  {
   "cell_type": "markdown",
   "id": "aadf4dbc",
   "metadata": {},
   "source": [
    "## Loading CSV From a local path"
   ]
  },
  {
   "cell_type": "code",
   "execution_count": 3,
   "id": "8c06e278",
   "metadata": {},
   "outputs": [],
   "source": [
    "# pd.read_csv('filename.csv')"
   ]
  },
  {
   "cell_type": "markdown",
   "id": "f09ce94b",
   "metadata": {},
   "source": [
    "## Loading CSV From an URL"
   ]
  },
  {
   "cell_type": "code",
   "execution_count": 4,
   "id": "9e084550",
   "metadata": {},
   "outputs": [
    {
     "data": {
      "text/html": [
       "<div>\n",
       "<style scoped>\n",
       "    .dataframe tbody tr th:only-of-type {\n",
       "        vertical-align: middle;\n",
       "    }\n",
       "\n",
       "    .dataframe tbody tr th {\n",
       "        vertical-align: top;\n",
       "    }\n",
       "\n",
       "    .dataframe thead th {\n",
       "        text-align: right;\n",
       "    }\n",
       "</style>\n",
       "<table border=\"1\" class=\"dataframe\">\n",
       "  <thead>\n",
       "    <tr style=\"text-align: right;\">\n",
       "      <th></th>\n",
       "      <th>Country</th>\n",
       "      <th>Region</th>\n",
       "    </tr>\n",
       "  </thead>\n",
       "  <tbody>\n",
       "    <tr>\n",
       "      <th>0</th>\n",
       "      <td>Algeria</td>\n",
       "      <td>AFRICA</td>\n",
       "    </tr>\n",
       "    <tr>\n",
       "      <th>1</th>\n",
       "      <td>Angola</td>\n",
       "      <td>AFRICA</td>\n",
       "    </tr>\n",
       "    <tr>\n",
       "      <th>2</th>\n",
       "      <td>Benin</td>\n",
       "      <td>AFRICA</td>\n",
       "    </tr>\n",
       "    <tr>\n",
       "      <th>3</th>\n",
       "      <td>Botswana</td>\n",
       "      <td>AFRICA</td>\n",
       "    </tr>\n",
       "    <tr>\n",
       "      <th>4</th>\n",
       "      <td>Burkina</td>\n",
       "      <td>AFRICA</td>\n",
       "    </tr>\n",
       "    <tr>\n",
       "      <th>...</th>\n",
       "      <td>...</td>\n",
       "      <td>...</td>\n",
       "    </tr>\n",
       "    <tr>\n",
       "      <th>189</th>\n",
       "      <td>Paraguay</td>\n",
       "      <td>SOUTH AMERICA</td>\n",
       "    </tr>\n",
       "    <tr>\n",
       "      <th>190</th>\n",
       "      <td>Peru</td>\n",
       "      <td>SOUTH AMERICA</td>\n",
       "    </tr>\n",
       "    <tr>\n",
       "      <th>191</th>\n",
       "      <td>Suriname</td>\n",
       "      <td>SOUTH AMERICA</td>\n",
       "    </tr>\n",
       "    <tr>\n",
       "      <th>192</th>\n",
       "      <td>Uruguay</td>\n",
       "      <td>SOUTH AMERICA</td>\n",
       "    </tr>\n",
       "    <tr>\n",
       "      <th>193</th>\n",
       "      <td>Venezuela</td>\n",
       "      <td>SOUTH AMERICA</td>\n",
       "    </tr>\n",
       "  </tbody>\n",
       "</table>\n",
       "<p>194 rows × 2 columns</p>\n",
       "</div>"
      ],
      "text/plain": [
       "       Country         Region\n",
       "0      Algeria         AFRICA\n",
       "1       Angola         AFRICA\n",
       "2        Benin         AFRICA\n",
       "3     Botswana         AFRICA\n",
       "4      Burkina         AFRICA\n",
       "..         ...            ...\n",
       "189   Paraguay  SOUTH AMERICA\n",
       "190       Peru  SOUTH AMERICA\n",
       "191   Suriname  SOUTH AMERICA\n",
       "192    Uruguay  SOUTH AMERICA\n",
       "193  Venezuela  SOUTH AMERICA\n",
       "\n",
       "[194 rows x 2 columns]"
      ]
     },
     "execution_count": 4,
     "metadata": {},
     "output_type": "execute_result"
    }
   ],
   "source": [
    "import requests\n",
    "from io import StringIO\n",
    "\n",
    "url = \"https://raw.githubusercontent.com/cs109/2014_data/master/countries.csv\"\n",
    "headers = {\"User-Agent\" : \"Mozilla/5.0 (Macintosh; Intel Mac OS X 10.14; rv:66.0) Gecko/20100101 Firefox/66.0\"}\n",
    "req = requests.get(url, headers=headers)\n",
    "data = StringIO(req.text)\n",
    "\n",
    "pd.read_csv(data)"
   ]
  },
  {
   "cell_type": "markdown",
   "id": "dd7e546b",
   "metadata": {},
   "source": [
    "## Sep Paramter"
   ]
  },
  {
   "cell_type": "code",
   "execution_count": 5,
   "id": "ec61997d",
   "metadata": {},
   "outputs": [],
   "source": [
    "# pd.read_csv('movie_titles_metadata.tsv', sep='\\t', names=['sno','name','release_year','rating','votes','genres'])"
   ]
  },
  {
   "cell_type": "markdown",
   "id": "39dd3940",
   "metadata": {},
   "source": [
    "## index_col Parameter"
   ]
  },
  {
   "cell_type": "code",
   "execution_count": 6,
   "id": "f3a8668a",
   "metadata": {},
   "outputs": [],
   "source": [
    "# To make the index_col column to be the default initial column\n",
    "# pd.read_csv('aug_train.csv',index_col=\"enrolle_id\")"
   ]
  },
  {
   "cell_type": "markdown",
   "id": "7033490b",
   "metadata": {},
   "source": [
    "## Header Parameter"
   ]
  },
  {
   "cell_type": "code",
   "execution_count": 7,
   "id": "e6cd5220",
   "metadata": {},
   "outputs": [],
   "source": [
    "# When the header of the data is in a different row.\n",
    "\n",
    "# pd.read_csv('test.csv', header=1)"
   ]
  },
  {
   "cell_type": "markdown",
   "id": "141d1243",
   "metadata": {},
   "source": [
    "## use_cols parameter"
   ]
  },
  {
   "cell_type": "code",
   "execution_count": 8,
   "id": "fda5a53d",
   "metadata": {},
   "outputs": [],
   "source": [
    "# pd.read_csv('aug_train.csv', usecol=['col1','col2','col3'])"
   ]
  },
  {
   "cell_type": "markdown",
   "id": "2b6f838a",
   "metadata": {},
   "source": [
    "## Squeeze Parameter"
   ]
  },
  {
   "cell_type": "code",
   "execution_count": 9,
   "id": "40a38699",
   "metadata": {},
   "outputs": [],
   "source": [
    "# pd.read_csv('csv',usecols=['gender'],squeeze=True)"
   ]
  },
  {
   "cell_type": "markdown",
   "id": "bc2824ed",
   "metadata": {},
   "source": [
    "## Skiprows/nrows Paramter"
   ]
  },
  {
   "cell_type": "code",
   "execution_count": 11,
   "id": "e69d6a2c",
   "metadata": {},
   "outputs": [],
   "source": [
    "# pd.read_csv('file',skiprows=[0,2])\n",
    "\n",
    "# For Specific number of rows\n",
    "\n",
    "# pd.read_csv('file',nrows=100)"
   ]
  },
  {
   "cell_type": "markdown",
   "id": "179e66a0",
   "metadata": {},
   "source": [
    "## Encoding Parameter"
   ]
  },
  {
   "cell_type": "code",
   "execution_count": 12,
   "id": "7539398e",
   "metadata": {},
   "outputs": [],
   "source": [
    "# pd.read_csv('file',encoding='latin-1')"
   ]
  },
  {
   "cell_type": "markdown",
   "id": "70fc6ada",
   "metadata": {},
   "source": [
    "## Skip bad lines"
   ]
  },
  {
   "cell_type": "code",
   "execution_count": 13,
   "id": "e2104a7a",
   "metadata": {},
   "outputs": [],
   "source": [
    "# In case there is a particular line(s). It skips that err\n",
    "# pd.read_csv('file', error_bad_lines=false)"
   ]
  },
  {
   "cell_type": "markdown",
   "id": "a4a1ebe1",
   "metadata": {},
   "source": [
    "## dtypes parameter"
   ]
  },
  {
   "cell_type": "code",
   "execution_count": 14,
   "id": "c129b287",
   "metadata": {},
   "outputs": [],
   "source": [
    "# In case the data type needs to be transformed into a different type\n",
    "# pd.read_csv('file',dtype={'target':int}).info()"
   ]
  },
  {
   "cell_type": "markdown",
   "id": "2de24710",
   "metadata": {},
   "source": [
    "## Handling Dates"
   ]
  },
  {
   "cell_type": "code",
   "execution_count": 15,
   "id": "404bc5a5",
   "metadata": {},
   "outputs": [],
   "source": [
    "# Changing Objects(Strings) in pandas to dates\n",
    "\n",
    "# pd.read_csv('', parse_dates=['date'])"
   ]
  },
  {
   "cell_type": "markdown",
   "id": "9e84e5b6",
   "metadata": {},
   "source": [
    "## Convertors"
   ]
  },
  {
   "cell_type": "code",
   "execution_count": 17,
   "id": "6e3e930c",
   "metadata": {},
   "outputs": [],
   "source": [
    "def rename(name):\n",
    "    if name==\"Avadaka\":\n",
    "        return AVD\n",
    "    else:\n",
    "        return name\n",
    "\n",
    "# pd.read_csv('', converters={'col1':rename})"
   ]
  },
  {
   "cell_type": "markdown",
   "id": "d0056851",
   "metadata": {},
   "source": [
    "## na_values parameter"
   ]
  },
  {
   "cell_type": "code",
   "execution_count": 18,
   "id": "1968f40d",
   "metadata": {},
   "outputs": [],
   "source": [
    "# pd.read_csv('file', na_values=['col3'])"
   ]
  },
  {
   "cell_type": "markdown",
   "id": "02f90f90",
   "metadata": {},
   "source": [
    "## Loading Big Dataset in Chunks"
   ]
  },
  {
   "cell_type": "code",
   "execution_count": 19,
   "id": "d18355de",
   "metadata": {},
   "outputs": [],
   "source": [
    "# dfs = pd.read_csv('file',chunksize=5000)"
   ]
  },
  {
   "cell_type": "code",
   "execution_count": null,
   "id": "71a7b986",
   "metadata": {},
   "outputs": [],
   "source": [
    "    "
   ]
  }
 ],
 "metadata": {
  "kernelspec": {
   "display_name": "Python 3 (ipykernel)",
   "language": "python",
   "name": "python3"
  },
  "language_info": {
   "codemirror_mode": {
    "name": "ipython",
    "version": 3
   },
   "file_extension": ".py",
   "mimetype": "text/x-python",
   "name": "python",
   "nbconvert_exporter": "python",
   "pygments_lexer": "ipython3",
   "version": "3.9.7"
  }
 },
 "nbformat": 4,
 "nbformat_minor": 5
}
