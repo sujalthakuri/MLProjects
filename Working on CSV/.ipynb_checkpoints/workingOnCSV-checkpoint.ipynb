{
 "cells": [
  {
   "cell_type": "code",
   "execution_count": 1,
   "id": "970b7bb8",
   "metadata": {},
   "outputs": [],
   "source": [
    "import pandas as pd"
   ]
  },
  {
   "cell_type": "markdown",
   "id": "7ec81a24",
   "metadata": {},
   "source": [
    "## Loading CSV From a local path"
   ]
  },
  {
   "cell_type": "code",
   "execution_count": 3,
   "id": "ee4e3842",
   "metadata": {},
   "outputs": [],
   "source": [
    "# pd.read_csv('filename.csv')"
   ]
  },
  {
   "cell_type": "markdown",
   "id": "43794d83",
   "metadata": {},
   "source": [
    "## Loading CSV From an URL"
   ]
  },
  {
   "cell_type": "code",
   "execution_count": 4,
   "id": "563fac41",
   "metadata": {},
   "outputs": [
    {
     "data": {
      "text/html": [
       "<div>\n",
       "<style scoped>\n",
       "    .dataframe tbody tr th:only-of-type {\n",
       "        vertical-align: middle;\n",
       "    }\n",
       "\n",
       "    .dataframe tbody tr th {\n",
       "        vertical-align: top;\n",
       "    }\n",
       "\n",
       "    .dataframe thead th {\n",
       "        text-align: right;\n",
       "    }\n",
       "</style>\n",
       "<table border=\"1\" class=\"dataframe\">\n",
       "  <thead>\n",
       "    <tr style=\"text-align: right;\">\n",
       "      <th></th>\n",
       "      <th>Country</th>\n",
       "      <th>Region</th>\n",
       "    </tr>\n",
       "  </thead>\n",
       "  <tbody>\n",
       "    <tr>\n",
       "      <th>0</th>\n",
       "      <td>Algeria</td>\n",
       "      <td>AFRICA</td>\n",
       "    </tr>\n",
       "    <tr>\n",
       "      <th>1</th>\n",
       "      <td>Angola</td>\n",
       "      <td>AFRICA</td>\n",
       "    </tr>\n",
       "    <tr>\n",
       "      <th>2</th>\n",
       "      <td>Benin</td>\n",
       "      <td>AFRICA</td>\n",
       "    </tr>\n",
       "    <tr>\n",
       "      <th>3</th>\n",
       "      <td>Botswana</td>\n",
       "      <td>AFRICA</td>\n",
       "    </tr>\n",
       "    <tr>\n",
       "      <th>4</th>\n",
       "      <td>Burkina</td>\n",
       "      <td>AFRICA</td>\n",
       "    </tr>\n",
       "    <tr>\n",
       "      <th>...</th>\n",
       "      <td>...</td>\n",
       "      <td>...</td>\n",
       "    </tr>\n",
       "    <tr>\n",
       "      <th>189</th>\n",
       "      <td>Paraguay</td>\n",
       "      <td>SOUTH AMERICA</td>\n",
       "    </tr>\n",
       "    <tr>\n",
       "      <th>190</th>\n",
       "      <td>Peru</td>\n",
       "      <td>SOUTH AMERICA</td>\n",
       "    </tr>\n",
       "    <tr>\n",
       "      <th>191</th>\n",
       "      <td>Suriname</td>\n",
       "      <td>SOUTH AMERICA</td>\n",
       "    </tr>\n",
       "    <tr>\n",
       "      <th>192</th>\n",
       "      <td>Uruguay</td>\n",
       "      <td>SOUTH AMERICA</td>\n",
       "    </tr>\n",
       "    <tr>\n",
       "      <th>193</th>\n",
       "      <td>Venezuela</td>\n",
       "      <td>SOUTH AMERICA</td>\n",
       "    </tr>\n",
       "  </tbody>\n",
       "</table>\n",
       "<p>194 rows × 2 columns</p>\n",
       "</div>"
      ],
      "text/plain": [
       "       Country         Region\n",
       "0      Algeria         AFRICA\n",
       "1       Angola         AFRICA\n",
       "2        Benin         AFRICA\n",
       "3     Botswana         AFRICA\n",
       "4      Burkina         AFRICA\n",
       "..         ...            ...\n",
       "189   Paraguay  SOUTH AMERICA\n",
       "190       Peru  SOUTH AMERICA\n",
       "191   Suriname  SOUTH AMERICA\n",
       "192    Uruguay  SOUTH AMERICA\n",
       "193  Venezuela  SOUTH AMERICA\n",
       "\n",
       "[194 rows x 2 columns]"
      ]
     },
     "execution_count": 4,
     "metadata": {},
     "output_type": "execute_result"
    }
   ],
   "source": [
    "import requests\n",
    "from io import StringIO\n",
    "\n",
    "url = \"https://raw.githubusercontent.com/cs109/2014_data/master/countries.csv\"\n",
    "headers = {\"User-Agent\" : \"Mozilla/5.0 (Macintosh; Intel Mac OS X 10.14; rv:66.0) Gecko/20100101 Firefox/66.0\"}\n",
    "req = requests.get(url, headers=headers)\n",
    "data = StringIO(req.text)\n",
    "\n",
    "pd.read_csv(data)"
   ]
  },
  {
   "cell_type": "markdown",
   "id": "01adcaf7",
   "metadata": {},
   "source": [
    "## Sep Paramter"
   ]
  },
  {
   "cell_type": "code",
   "execution_count": 5,
   "id": "762ed172",
   "metadata": {},
   "outputs": [],
   "source": [
    "# pd.read_csv('movie_titles_metadata.tsv', sep='\\t', names=['sno','name','release_year','rating','votes','genres'])"
   ]
  },
  {
   "cell_type": "markdown",
   "id": "f2e4a56f",
   "metadata": {},
   "source": [
    "## index_col Parameter"
   ]
  },
  {
   "cell_type": "code",
   "execution_count": 6,
   "id": "732f7f89",
   "metadata": {},
   "outputs": [],
   "source": [
    "# To make the index_col column to be the default initial column\n",
    "# pd.read_csv('aug_train.csv',index_col=\"enrolle_id\")"
   ]
  },
  {
   "cell_type": "markdown",
   "id": "9c6d5255",
   "metadata": {},
   "source": [
    "## Header Parameter"
   ]
  },
  {
   "cell_type": "code",
   "execution_count": 7,
   "id": "5c1e322c",
   "metadata": {},
   "outputs": [],
   "source": [
    "# When the header of the data is in a different row.\n",
    "\n",
    "# pd.read_csv('test.csv', header=1)"
   ]
  },
  {
   "cell_type": "markdown",
   "id": "b49b1352",
   "metadata": {},
   "source": [
    "## use_cols parameter"
   ]
  },
  {
   "cell_type": "code",
   "execution_count": 8,
   "id": "eccec666",
   "metadata": {},
   "outputs": [],
   "source": [
    "# pd.read_csv('aug_train.csv', usecol=['col1','col2','col3'])"
   ]
  },
  {
   "cell_type": "markdown",
   "id": "0c15b5cb",
   "metadata": {},
   "source": [
    "## Squeeze Parameter"
   ]
  },
  {
   "cell_type": "code",
   "execution_count": 9,
   "id": "405e96ac",
   "metadata": {},
   "outputs": [],
   "source": [
    "# pd.read_csv('csv',usecols=['gender'],squeeze=True)"
   ]
  },
  {
   "cell_type": "markdown",
   "id": "874414d0",
   "metadata": {},
   "source": [
    "## Skiprows/nrows Paramter"
   ]
  },
  {
   "cell_type": "code",
   "execution_count": 11,
   "id": "d23438d5",
   "metadata": {},
   "outputs": [],
   "source": [
    "# pd.read_csv('file',skiprows=[0,2])\n",
    "\n",
    "# For Specific number of rows\n",
    "\n",
    "# pd.read_csv('file',nrows=100)"
   ]
  },
  {
   "cell_type": "markdown",
   "id": "041d7e54",
   "metadata": {},
   "source": [
    "## Encoding Parameter"
   ]
  },
  {
   "cell_type": "code",
   "execution_count": 12,
   "id": "eabc6a9c",
   "metadata": {},
   "outputs": [],
   "source": [
    "# pd.read_csv('file',encoding='latin-1')"
   ]
  },
  {
   "cell_type": "markdown",
   "id": "e3e59f78",
   "metadata": {},
   "source": [
    "## Skip bad lines"
   ]
  },
  {
   "cell_type": "code",
   "execution_count": 13,
   "id": "d97e161d",
   "metadata": {},
   "outputs": [],
   "source": [
    "# In case there is a particular line(s). It skips that err\n",
    "# pd.read_csv('file', error_bad_lines=false)"
   ]
  },
  {
   "cell_type": "markdown",
   "id": "11afdda6",
   "metadata": {},
   "source": [
    "## dtypes parameter"
   ]
  },
  {
   "cell_type": "code",
   "execution_count": 14,
   "id": "08b31d34",
   "metadata": {},
   "outputs": [],
   "source": [
    "# In case the data type needs to be transformed into a different type\n",
    "# pd.read_csv('file',dtype={'target':int}).info()"
   ]
  },
  {
   "cell_type": "markdown",
   "id": "8a89a0b1",
   "metadata": {},
   "source": [
    "## Handling Dates"
   ]
  },
  {
   "cell_type": "code",
   "execution_count": 15,
   "id": "ab1adffe",
   "metadata": {},
   "outputs": [],
   "source": [
    "# Changing Objects(Strings) in pandas to dates\n",
    "\n",
    "# pd.read_csv('', parse_dates=['date'])"
   ]
  },
  {
   "cell_type": "markdown",
   "id": "ea3fb566",
   "metadata": {},
   "source": [
    "## Convertors"
   ]
  },
  {
   "cell_type": "code",
   "execution_count": 17,
   "id": "33a17b9d",
   "metadata": {},
   "outputs": [],
   "source": [
    "def rename(name):\n",
    "    if name==\"Avadaka\":\n",
    "        return AVD\n",
    "    else:\n",
    "        return name\n",
    "\n",
    "# pd.read_csv('', converters={'col1':rename})"
   ]
  },
  {
   "cell_type": "markdown",
   "id": "65ced286",
   "metadata": {},
   "source": [
    "## na_values parameter"
   ]
  },
  {
   "cell_type": "code",
   "execution_count": null,
   "id": "1a3c8ea7",
   "metadata": {},
   "outputs": [],
   "source": [
    "# pd.read_csv('file', na_values=['col3'])"
   ]
  }
 ],
 "metadata": {
  "kernelspec": {
   "display_name": "Python 3 (ipykernel)",
   "language": "python",
   "name": "python3"
  },
  "language_info": {
   "codemirror_mode": {
    "name": "ipython",
    "version": 3
   },
   "file_extension": ".py",
   "mimetype": "text/x-python",
   "name": "python",
   "nbconvert_exporter": "python",
   "pygments_lexer": "ipython3",
   "version": "3.9.7"
  }
 },
 "nbformat": 4,
 "nbformat_minor": 5
}
